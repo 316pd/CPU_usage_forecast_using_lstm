{
  "nbformat": 4,
  "nbformat_minor": 0,
  "metadata": {
    "colab": {
      "name": "lstm_cpu.ipynb",
      "provenance": []
    },
    "kernelspec": {
      "display_name": "Python 3",
      "name": "python3"
    },
    "language_info": {
      "name": "python"
    }
  },
  "cells": [
    {
      "cell_type": "markdown",
      "metadata": {
        "id": "5ZQ7Lh4XQl-C"
      },
      "source": [
        "**CPU usage forecasting with LSTM Recurrent Neural Networks**"
      ]
    },
    {
      "cell_type": "code",
      "metadata": {
        "id": "mIJY_QWCU9_T"
      },
      "source": [
        "import pandas as pd\n",
        "import numpy as np\n",
        "import matplotlib\n",
        "import seaborn as sns\n",
        "import matplotlib.dates as md\n",
        "from matplotlib import pyplot as plt\n",
        "import numpy\n",
        "import matplotlib.pyplot as plt\n",
        "import pandas\n",
        "import math\n",
        "from keras.models import Sequential\n",
        "from keras.layers import Dense\n",
        "from keras.layers import LSTM\n",
        "from sklearn.preprocessing import MinMaxScaler\n",
        "from sklearn.metrics import mean_squared_error"
      ],
      "execution_count": null,
      "outputs": []
    },
    {
      "cell_type": "markdown",
      "metadata": {
        "id": "bZ4EnnZRRBe5"
      },
      "source": [
        "Loading CSV file from system to google colab"
      ]
    },
    {
      "cell_type": "code",
      "metadata": {
        "colab": {
          "resources": {
            "http://localhost:8080/nbextensions/google.colab/files.js": {
              "data": "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",
              "ok": true,
              "headers": [
                [
                  "content-type",
                  "application/javascript"
                ]
              ],
              "status": 200,
              "status_text": ""
            }
          },
          "base_uri": "https://localhost:8080/",
          "height": 92
        },
        "id": "EfBvXWKowwSI",
        "outputId": "28ef4cd9-0fd3-4914-dc90-c20cec9b51a9"
      },
      "source": [
        "from google.colab import files\n",
        "uploaded = files.upload()"
      ],
      "execution_count": null,
      "outputs": [
        {
          "output_type": "display_data",
          "data": {
            "text/html": [
              "\n",
              "     <input type=\"file\" id=\"files-db5f679a-3e03-4e44-8c7d-a3d8c60e6119\" name=\"files[]\" multiple disabled\n",
              "        style=\"border:none\" />\n",
              "     <output id=\"result-db5f679a-3e03-4e44-8c7d-a3d8c60e6119\">\n",
              "      Upload widget is only available when the cell has been executed in the\n",
              "      current browser session. Please rerun this cell to enable.\n",
              "      </output>\n",
              "      <script src=\"/nbextensions/google.colab/files.js\"></script> "
            ],
            "text/plain": [
              "<IPython.core.display.HTML object>"
            ]
          },
          "metadata": {
            "tags": []
          }
        },
        {
          "output_type": "stream",
          "text": [
            "Saving Tools-Cloud-EC2_i-080f2deaf5fdbcae5_Metrics-2021_05_01_08_00_00-2021_06_30_07_00_00-UTC.csv to Tools-Cloud-EC2_i-080f2deaf5fdbcae5_Metrics-2021_05_01_08_00_00-2021_06_30_07_00_00-UTC.csv\n"
          ],
          "name": "stdout"
        }
      ]
    },
    {
      "cell_type": "markdown",
      "metadata": {
        "id": "Xgg9lN2nSr_E"
      },
      "source": [
        "The problem solved in this notebook is to forecast CPU usage for coming 30 days, for that we have taken dataset from AWS for Tools-Cloud-EC2 instance."
      ]
    },
    {
      "cell_type": "code",
      "metadata": {
        "colab": {
          "base_uri": "https://localhost:8080/",
          "height": 292
        },
        "id": "u9XXceBnUOOL",
        "outputId": "c05ccc7f-13e2-481b-e354-84fa81d7bff6"
      },
      "source": [
        "df = pd.read_csv(\"Tools-Cloud-EC2_i-080f2deaf5fdbcae5_Metrics-2021_05_01_08_00_00-2021_06_30_07_00_00-UTC.csv\")\n",
        "df.head()"
      ],
      "execution_count": null,
      "outputs": [
        {
          "output_type": "execute_result",
          "data": {
            "text/html": [
              "<div>\n",
              "<style scoped>\n",
              "    .dataframe tbody tr th:only-of-type {\n",
              "        vertical-align: middle;\n",
              "    }\n",
              "\n",
              "    .dataframe tbody tr th {\n",
              "        vertical-align: top;\n",
              "    }\n",
              "\n",
              "    .dataframe thead th {\n",
              "        text-align: right;\n",
              "    }\n",
              "</style>\n",
              "<table border=\"1\" class=\"dataframe\">\n",
              "  <thead>\n",
              "    <tr style=\"text-align: right;\">\n",
              "      <th></th>\n",
              "      <th>Id</th>\n",
              "      <th>metric_alias0</th>\n",
              "      <th>metric_alias1</th>\n",
              "      <th>metric_alias2</th>\n",
              "      <th>metric_alias3</th>\n",
              "      <th>metric_alias4</th>\n",
              "      <th>metric_alias5</th>\n",
              "      <th>metric_alias6</th>\n",
              "      <th>metric_alias7</th>\n",
              "      <th>metric_alias8</th>\n",
              "      <th>metric_alias9</th>\n",
              "      <th>metric_alias10</th>\n",
              "      <th>metric_alias11</th>\n",
              "      <th>metric_alias12</th>\n",
              "      <th>metric_alias13</th>\n",
              "      <th>metric_alias14</th>\n",
              "      <th>metric_alias15</th>\n",
              "      <th>metric_alias16</th>\n",
              "    </tr>\n",
              "  </thead>\n",
              "  <tbody>\n",
              "    <tr>\n",
              "      <th>0</th>\n",
              "      <td>StatusCode</td>\n",
              "      <td>Complete</td>\n",
              "      <td>Complete</td>\n",
              "      <td>Complete</td>\n",
              "      <td>Complete</td>\n",
              "      <td>Complete</td>\n",
              "      <td>Complete</td>\n",
              "      <td>Complete</td>\n",
              "      <td>Complete</td>\n",
              "      <td>Complete</td>\n",
              "      <td>Complete</td>\n",
              "      <td>Complete</td>\n",
              "      <td>Complete</td>\n",
              "      <td>Complete</td>\n",
              "      <td>Complete</td>\n",
              "      <td>Complete</td>\n",
              "      <td>Complete</td>\n",
              "      <td>Complete</td>\n",
              "    </tr>\n",
              "    <tr>\n",
              "      <th>1</th>\n",
              "      <td>Messages</td>\n",
              "      <td>NaN</td>\n",
              "      <td>NaN</td>\n",
              "      <td>NaN</td>\n",
              "      <td>NaN</td>\n",
              "      <td>NaN</td>\n",
              "      <td>NaN</td>\n",
              "      <td>NaN</td>\n",
              "      <td>NaN</td>\n",
              "      <td>NaN</td>\n",
              "      <td>NaN</td>\n",
              "      <td>NaN</td>\n",
              "      <td>NaN</td>\n",
              "      <td>NaN</td>\n",
              "      <td>NaN</td>\n",
              "      <td>NaN</td>\n",
              "      <td>NaN</td>\n",
              "      <td>NaN</td>\n",
              "    </tr>\n",
              "    <tr>\n",
              "      <th>2</th>\n",
              "      <td>Full label</td>\n",
              "      <td>ap-south-1:AWS/EC2 InstanceId:i-080f2deaf5fdbc...</td>\n",
              "      <td>ap-south-1:AWS/EC2 InstanceId:i-080f2deaf5fdbc...</td>\n",
              "      <td>ap-south-1:AWS/EC2 InstanceId:i-080f2deaf5fdbc...</td>\n",
              "      <td>ap-south-1:AWS/EC2 InstanceId:i-080f2deaf5fdbc...</td>\n",
              "      <td>ap-south-1:AWS/EC2 InstanceId:i-080f2deaf5fdbc...</td>\n",
              "      <td>ap-south-1:AWS/EC2 InstanceId:i-080f2deaf5fdbc...</td>\n",
              "      <td>ap-south-1:AWS/EC2 InstanceId:i-080f2deaf5fdbc...</td>\n",
              "      <td>ap-south-1:AWS/EC2 InstanceId:i-080f2deaf5fdbc...</td>\n",
              "      <td>ap-south-1:AWS/EC2 InstanceId:i-080f2deaf5fdbc...</td>\n",
              "      <td>ap-south-1:AWS/EC2 InstanceId:i-080f2deaf5fdbc...</td>\n",
              "      <td>ap-south-1:AWS/EC2 InstanceId:i-080f2deaf5fdbc...</td>\n",
              "      <td>ap-south-1:AWS/EC2 InstanceId:i-080f2deaf5fdbc...</td>\n",
              "      <td>ap-south-1:AWS/EC2 InstanceId:i-080f2deaf5fdbc...</td>\n",
              "      <td>ap-south-1:AWS/EC2 InstanceId:i-080f2deaf5fdbc...</td>\n",
              "      <td>ap-south-1:AWS/EC2 InstanceId:i-080f2deaf5fdbc...</td>\n",
              "      <td>ap-south-1:AWS/EC2 InstanceId:i-080f2deaf5fdbc...</td>\n",
              "      <td>ap-south-1:AWS/EC2 InstanceId:i-080f2deaf5fdbc...</td>\n",
              "    </tr>\n",
              "    <tr>\n",
              "      <th>3</th>\n",
              "      <td>Label</td>\n",
              "      <td>CPUCreditBalance</td>\n",
              "      <td>CPUCreditUsage</td>\n",
              "      <td>CPUSurplusCreditBalance</td>\n",
              "      <td>CPUSurplusCreditsCharged</td>\n",
              "      <td>CPUUtilization</td>\n",
              "      <td>DiskReadBytes</td>\n",
              "      <td>DiskReadOps</td>\n",
              "      <td>DiskWriteBytes</td>\n",
              "      <td>DiskWriteOps</td>\n",
              "      <td>MetadataNoToken</td>\n",
              "      <td>NetworkIn</td>\n",
              "      <td>NetworkOut</td>\n",
              "      <td>NetworkPacketsIn</td>\n",
              "      <td>NetworkPacketsOut</td>\n",
              "      <td>StatusCheckFailed</td>\n",
              "      <td>StatusCheckFailed_Instance</td>\n",
              "      <td>StatusCheckFailed_System</td>\n",
              "    </tr>\n",
              "    <tr>\n",
              "      <th>4</th>\n",
              "      <td>2021/05/01 08:00:00</td>\n",
              "      <td>1296</td>\n",
              "      <td>0.03813875</td>\n",
              "      <td>NaN</td>\n",
              "      <td>NaN</td>\n",
              "      <td>0.18957677286892777</td>\n",
              "      <td>NaN</td>\n",
              "      <td>NaN</td>\n",
              "      <td>NaN</td>\n",
              "      <td>NaN</td>\n",
              "      <td>NaN</td>\n",
              "      <td>29545.266666666666</td>\n",
              "      <td>23359.716666666667</td>\n",
              "      <td>140.06666666666666</td>\n",
              "      <td>127.5</td>\n",
              "      <td>NaN</td>\n",
              "      <td>NaN</td>\n",
              "      <td>NaN</td>\n",
              "    </tr>\n",
              "  </tbody>\n",
              "</table>\n",
              "</div>"
            ],
            "text/plain": [
              "                    Id  ...                                     metric_alias16\n",
              "0           StatusCode  ...                                           Complete\n",
              "1             Messages  ...                                                NaN\n",
              "2           Full label  ...  ap-south-1:AWS/EC2 InstanceId:i-080f2deaf5fdbc...\n",
              "3                Label  ...                           StatusCheckFailed_System\n",
              "4  2021/05/01 08:00:00  ...                                                NaN\n",
              "\n",
              "[5 rows x 18 columns]"
            ]
          },
          "metadata": {
            "tags": []
          },
          "execution_count": 3
        }
      ]
    },
    {
      "cell_type": "markdown",
      "metadata": {
        "id": "Fu06077BTEwl"
      },
      "source": [
        "Below cell takes the dataset and discard all variables/features except timestamp and CPUUtilization"
      ]
    },
    {
      "cell_type": "code",
      "metadata": {
        "id": "rhPXKvg6HD83"
      },
      "source": [
        "to_drop = ['metric_alias0','metric_alias1','metric_alias2','metric_alias3','metric_alias5','metric_alias6','metric_alias7','metric_alias8','metric_alias9','metric_alias10','metric_alias11','metric_alias12','metric_alias13','metric_alias14','metric_alias15','metric_alias16']\n",
        "df.drop(to_drop, inplace=True, axis=1)"
      ],
      "execution_count": null,
      "outputs": []
    },
    {
      "cell_type": "markdown",
      "metadata": {
        "id": "8mkpXUcnTXa6"
      },
      "source": [
        "Below cell discard first 4 rows from our dataset as they are dump values"
      ]
    },
    {
      "cell_type": "code",
      "metadata": {
        "id": "nMosigsoHL85"
      },
      "source": [
        "df = df.drop(df.index[[0, 1, 2, 3]])"
      ],
      "execution_count": null,
      "outputs": []
    },
    {
      "cell_type": "markdown",
      "metadata": {
        "id": "0TSYRJUnTagf"
      },
      "source": [
        "Below cell changes the column names of dataset, convert 'time' to pandas datetime and convert the 'cpu' column values to floating point values, which are more suitable for modeling with a neural network."
      ]
    },
    {
      "cell_type": "code",
      "metadata": {
        "colab": {
          "base_uri": "https://localhost:8080/"
        },
        "id": "vR0V87YFXrDv",
        "outputId": "555ef0a8-be6c-4a3b-cb10-d6ab3b6b93ee"
      },
      "source": [
        "df.columns = ['time','cpu']\n",
        "df['time'] = pd.to_datetime(df['time'])\n",
        "df['cpu'] = df['cpu'].astype(np.float64)\n",
        "df.info()"
      ],
      "execution_count": null,
      "outputs": [
        {
          "output_type": "stream",
          "text": [
            "<class 'pandas.core.frame.DataFrame'>\n",
            "Int64Index: 1440 entries, 4 to 1443\n",
            "Data columns (total 2 columns):\n",
            " #   Column  Non-Null Count  Dtype         \n",
            "---  ------  --------------  -----         \n",
            " 0   time    1440 non-null   datetime64[ns]\n",
            " 1   cpu     1440 non-null   float64       \n",
            "dtypes: datetime64[ns](1), float64(1)\n",
            "memory usage: 33.8 KB\n"
          ],
          "name": "stdout"
        }
      ]
    },
    {
      "cell_type": "markdown",
      "metadata": {
        "id": "_5Gs0teEU1Gz"
      },
      "source": [
        "Below cell is written to remove outliers, as our dataset contain lot of outliers and replacing them with median value."
      ]
    },
    {
      "cell_type": "code",
      "metadata": {
        "id": "__dmYm-NHZwk"
      },
      "source": [
        "i = 4\n",
        "while i < len(df):\n",
        "  if df.at[i,'cpu'] > 3:\n",
        "    df.at[i,'cpu'] = df['cpu'].median()\n",
        "  i += 1"
      ],
      "execution_count": null,
      "outputs": []
    },
    {
      "cell_type": "markdown",
      "metadata": {
        "id": "XP-F57isVdLW"
      },
      "source": [
        "The code below is to load and plot the dataset, we can see that almost 97% values are in range between 0.2 to 0.3."
      ]
    },
    {
      "cell_type": "code",
      "metadata": {
        "colab": {
          "base_uri": "https://localhost:8080/",
          "height": 483
        },
        "id": "DwMpOIrGYsXt",
        "outputId": "a88c5057-d955-438c-94f6-b56d11cb4c45"
      },
      "source": [
        "plt.figure(figsize=(15,8))\n",
        "plt.plot(df['time'], df['cpu'])\n",
        "plt.show()"
      ],
      "execution_count": null,
      "outputs": [
        {
          "output_type": "display_data",
          "data": {
            "image/png": "[encoded data removed]",
            "text/plain": [
              "<Figure size 1080x576 with 1 Axes>"
            ]
          },
          "metadata": {
            "tags": [],
            "needs_background": "light"
          }
        }
      ]
    },
    {
      "cell_type": "markdown",
      "metadata": {
        "id": "ZQbmLK7TWSey"
      },
      "source": [
        "LSTMs are sensitive to the scale of the input data, specifically when the sigmoid or tanh activation functions are used. we need to rescale the data to the range of 0 to 1, normalizing. We can easily normalize the dataset using the MinMaxScaler preprocessing class from the scikit-learn library."
      ]
    },
    {
      "cell_type": "code",
      "metadata": {
        "id": "0MqLBv4Fat7S"
      },
      "source": [
        "scaler = MinMaxScaler(feature_range=(0, 1))\n",
        "dataset = df['cpu'].values.reshape(-1, 1)\n",
        "dataset = scaler.fit_transform(dataset)"
      ],
      "execution_count": null,
      "outputs": []
    },
    {
      "cell_type": "markdown",
      "metadata": {
        "id": "1RAtdWd_WpQF"
      },
      "source": [
        "After we model our data and estimate the skill of our model on the training dataset, we need to get an idea of the skill of the model on new unseen data.\n",
        "\n",
        "With time series data, the sequence of values is important. A simple method that we can use is to split the ordered dataset into train and test datasets. The code below calculates the index of the split point and separates the data into the training datasets with 67% of the observations that we can use to train our model, leaving the remaining 33% for testing the model."
      ]
    },
    {
      "cell_type": "code",
      "metadata": {
        "colab": {
          "base_uri": "https://localhost:8080/"
        },
        "id": "gkg4p2labs_i",
        "outputId": "42b81f5e-e3f4-4362-d2a6-9fb013865a18"
      },
      "source": [
        "train_size = int(len(dataset) * 0.67)\n",
        "test_size = len(dataset) - train_size\n",
        "train, test = dataset[0:train_size,:], dataset[train_size:len(dataset),:]\n",
        "print(len(train), len(test))"
      ],
      "execution_count": null,
      "outputs": [
        {
          "output_type": "stream",
          "text": [
            "964 476\n"
          ],
          "name": "stdout"
        }
      ]
    },
    {
      "cell_type": "markdown",
      "metadata": {
        "id": "Xxh2R9QJW92I"
      },
      "source": [
        "Below cell is a function to create a new dataset. The function takes two arguments: the dataset, which is a NumPy array that we want to convert into a dataset, and the look_back, which is the number of previous time steps to use as input variables to predict the next time period which is 1 in our case, i.e we want to predict next 1 step. This creates a dataset where dataX is the cpu usage at a given time (t) and dataY is the cpu usage at the next time (t + 1).\n",
        "\n",
        "From this we will construct a differently shaped dataset."
      ]
    },
    {
      "cell_type": "code",
      "metadata": {
        "id": "Bs_tSyxSb2B7"
      },
      "source": [
        "def create_dataset(dataset, look_back=1):\n",
        "\tdataX, dataY = [], []\n",
        "\tfor i in range(len(dataset)-look_back-1):\n",
        "\t\ta = dataset[i:(i+look_back), 0]\n",
        "\t\tdataX.append(a)\n",
        "\t\tdataY.append(dataset[i + look_back, 0])\n",
        "\treturn numpy.array(dataX), numpy.array(dataY)"
      ],
      "execution_count": null,
      "outputs": []
    },
    {
      "cell_type": "markdown",
      "metadata": {
        "id": "Pmz9lOjLYHwo"
      },
      "source": [
        "Below cell prepares the train and test datasets for modeling, look back 12 means to compute next value we will take previous 12 values i.e taking previous 12 hours value"
      ]
    },
    {
      "cell_type": "code",
      "metadata": {
        "id": "gFfrE6vsb-h3"
      },
      "source": [
        "look_back = 12\n",
        "trainX, trainY = create_dataset(train, look_back)\n",
        "testX, testY = create_dataset(test, look_back)"
      ],
      "execution_count": null,
      "outputs": []
    },
    {
      "cell_type": "markdown",
      "metadata": {
        "id": "l-ZKIgLjY5Nt"
      },
      "source": [
        "This is how we have changed the shape of out dataset 951 x 12 represent 951 rows and 12 represent 1 rows contain previous 12 hours data"
      ]
    },
    {
      "cell_type": "code",
      "metadata": {
        "colab": {
          "base_uri": "https://localhost:8080/"
        },
        "id": "Ziv3J0ThU7go",
        "outputId": "56734ebc-b530-4475-9458-fa14a0ad7cb4"
      },
      "source": [
        "print(trainX.shape)\n",
        "print(trainX[:3])"
      ],
      "execution_count": null,
      "outputs": [
        {
          "output_type": "stream",
          "text": [
            "(951, 12)\n",
            "[[0.01064577 0.01135252 0.01668201 0.01339344 0.02942902 0.04082732\n",
            "  0.01463829 0.01336925 0.00594726 0.00531405 0.01199523 0.01196433]\n",
            " [0.01135252 0.01668201 0.01339344 0.02942902 0.04082732 0.01463829\n",
            "  0.01336925 0.00594726 0.00531405 0.01199523 0.01196433 0.00795413]\n",
            " [0.01668201 0.01339344 0.02942902 0.04082732 0.01463829 0.01336925\n",
            "  0.00594726 0.00531405 0.01199523 0.01196433 0.00795413 0.00932387]]\n"
          ],
          "name": "stdout"
        }
      ]
    },
    {
      "cell_type": "markdown",
      "metadata": {
        "id": "Vk95GSDpZcW_"
      },
      "source": [
        "The LSTM network expects the input data to be provided with a specific array structure in the form of: [samples, time steps, features].\n",
        "\n",
        "Currently, our data is in the form: [samples, features] and we are framing the problem as one time step for each sample. We can transform the prepared train and test input data into the expected structure using numpy.reshape() as follows."
      ]
    },
    {
      "cell_type": "code",
      "metadata": {
        "id": "-VfRQdv9cDd7"
      },
      "source": [
        "trainX = numpy.reshape(trainX, (trainX.shape[0], 1, trainX.shape[1]))\n",
        "testX = numpy.reshape(testX, (testX.shape[0], 1, testX.shape[1]))"
      ],
      "execution_count": null,
      "outputs": []
    },
    {
      "cell_type": "code",
      "metadata": {
        "colab": {
          "base_uri": "https://localhost:8080/"
        },
        "id": "MJ6aeUDTVCTW",
        "outputId": "39827dc3-7231-45b9-e07c-46dc3a0a0350"
      },
      "source": [
        "print(trainX.shape)\n",
        "print(trainX[:3])"
      ],
      "execution_count": null,
      "outputs": [
        {
          "output_type": "stream",
          "text": [
            "(951, 1, 12)\n",
            "[[[0.01064577 0.01135252 0.01668201 0.01339344 0.02942902 0.04082732\n",
            "   0.01463829 0.01336925 0.00594726 0.00531405 0.01199523 0.01196433]]\n",
            "\n",
            " [[0.01135252 0.01668201 0.01339344 0.02942902 0.04082732 0.01463829\n",
            "   0.01336925 0.00594726 0.00531405 0.01199523 0.01196433 0.00795413]]\n",
            "\n",
            " [[0.01668201 0.01339344 0.02942902 0.04082732 0.01463829 0.01336925\n",
            "   0.00594726 0.00531405 0.01199523 0.01196433 0.00795413 0.00932387]]]\n"
          ],
          "name": "stdout"
        }
      ]
    },
    {
      "cell_type": "markdown",
      "metadata": {
        "id": "9JHN7wOhaCMA"
      },
      "source": [
        "The network has a visible layer with 1 input, a hidden layer with 4 LSTM blocks or neurons, and an output layer that makes a single value prediction. The default sigmoid activation function is used for the LSTM blocks. The network is trained for 100 epochs and a batch size of 1 is used."
      ]
    },
    {
      "cell_type": "code",
      "metadata": {
        "colab": {
          "base_uri": "https://localhost:8080/"
        },
        "id": "SmTgWqcTcTYZ",
        "outputId": "fa2faea5-da96-4cb4-d2f3-d86bb40e12fa"
      },
      "source": [
        "model = Sequential()\n",
        "model.add(LSTM(4, input_shape=(1, look_back)))\n",
        "model.add(Dense(1))\n",
        "model.compile(loss='mean_squared_error', optimizer='adam')\n",
        "model.fit(trainX, trainY, epochs=100, batch_size=1, verbose=2)"
      ],
      "execution_count": null,
      "outputs": [
        {
          "output_type": "stream",
          "text": [
            "Epoch 1/100\n",
            "951/951 - 18s - loss: 0.0033\n",
            "Epoch 2/100\n",
            "951/951 - 1s - loss: 0.0030\n",
            "Epoch 3/100\n",
            "951/951 - 1s - loss: 0.0029\n",
            "Epoch 4/100\n",
            "951/951 - 1s - loss: 0.0028\n",
            "Epoch 5/100\n",
            "951/951 - 1s - loss: 0.0028\n",
            "Epoch 6/100\n",
            "951/951 - 1s - loss: 0.0027\n",
            "Epoch 7/100\n",
            "951/951 - 1s - loss: 0.0028\n",
            "Epoch 8/100\n",
            "951/951 - 1s - loss: 0.0027\n",
            "Epoch 9/100\n",
            "951/951 - 1s - loss: 0.0027\n",
            "Epoch 10/100\n",
            "951/951 - 1s - loss: 0.0027\n",
            "Epoch 11/100\n",
            "951/951 - 1s - loss: 0.0027\n",
            "Epoch 12/100\n",
            "951/951 - 1s - loss: 0.0027\n",
            "Epoch 13/100\n",
            "951/951 - 1s - loss: 0.0026\n",
            "Epoch 14/100\n",
            "951/951 - 1s - loss: 0.0027\n",
            "Epoch 15/100\n",
            "951/951 - 1s - loss: 0.0026\n",
            "Epoch 16/100\n",
            "951/951 - 1s - loss: 0.0026\n",
            "Epoch 17/100\n",
            "951/951 - 1s - loss: 0.0026\n",
            "Epoch 18/100\n",
            "951/951 - 1s - loss: 0.0026\n",
            "Epoch 19/100\n",
            "951/951 - 1s - loss: 0.0026\n",
            "Epoch 20/100\n",
            "951/951 - 1s - loss: 0.0026\n",
            "Epoch 21/100\n",
            "951/951 - 1s - loss: 0.0026\n",
            "Epoch 22/100\n",
            "951/951 - 1s - loss: 0.0026\n",
            "Epoch 23/100\n",
            "951/951 - 1s - loss: 0.0026\n",
            "Epoch 24/100\n",
            "951/951 - 1s - loss: 0.0026\n",
            "Epoch 25/100\n",
            "951/951 - 1s - loss: 0.0025\n",
            "Epoch 26/100\n",
            "951/951 - 1s - loss: 0.0026\n",
            "Epoch 27/100\n",
            "951/951 - 1s - loss: 0.0026\n",
            "Epoch 28/100\n",
            "951/951 - 1s - loss: 0.0025\n",
            "Epoch 29/100\n",
            "951/951 - 1s - loss: 0.0025\n",
            "Epoch 30/100\n",
            "951/951 - 1s - loss: 0.0025\n",
            "Epoch 31/100\n",
            "951/951 - 1s - loss: 0.0025\n",
            "Epoch 32/100\n",
            "951/951 - 1s - loss: 0.0025\n",
            "Epoch 33/100\n",
            "951/951 - 1s - loss: 0.0025\n",
            "Epoch 34/100\n",
            "951/951 - 1s - loss: 0.0025\n",
            "Epoch 35/100\n",
            "951/951 - 1s - loss: 0.0025\n",
            "Epoch 36/100\n",
            "951/951 - 1s - loss: 0.0025\n",
            "Epoch 37/100\n",
            "951/951 - 1s - loss: 0.0025\n",
            "Epoch 38/100\n",
            "951/951 - 1s - loss: 0.0025\n",
            "Epoch 39/100\n",
            "951/951 - 1s - loss: 0.0025\n",
            "Epoch 40/100\n",
            "951/951 - 1s - loss: 0.0025\n",
            "Epoch 41/100\n",
            "951/951 - 1s - loss: 0.0025\n",
            "Epoch 42/100\n",
            "951/951 - 1s - loss: 0.0025\n",
            "Epoch 43/100\n",
            "951/951 - 1s - loss: 0.0025\n",
            "Epoch 44/100\n",
            "951/951 - 1s - loss: 0.0025\n",
            "Epoch 45/100\n",
            "951/951 - 1s - loss: 0.0025\n",
            "Epoch 46/100\n",
            "951/951 - 1s - loss: 0.0025\n",
            "Epoch 47/100\n",
            "951/951 - 1s - loss: 0.0024\n",
            "Epoch 48/100\n",
            "951/951 - 1s - loss: 0.0025\n",
            "Epoch 49/100\n",
            "951/951 - 1s - loss: 0.0024\n",
            "Epoch 50/100\n",
            "951/951 - 1s - loss: 0.0024\n",
            "Epoch 51/100\n",
            "951/951 - 1s - loss: 0.0024\n",
            "Epoch 52/100\n",
            "951/951 - 1s - loss: 0.0024\n",
            "Epoch 53/100\n",
            "951/951 - 1s - loss: 0.0025\n",
            "Epoch 54/100\n",
            "951/951 - 1s - loss: 0.0024\n",
            "Epoch 55/100\n",
            "951/951 - 1s - loss: 0.0024\n",
            "Epoch 56/100\n",
            "951/951 - 1s - loss: 0.0024\n",
            "Epoch 57/100\n",
            "951/951 - 1s - loss: 0.0024\n",
            "Epoch 58/100\n",
            "951/951 - 1s - loss: 0.0024\n",
            "Epoch 59/100\n",
            "951/951 - 1s - loss: 0.0024\n",
            "Epoch 60/100\n",
            "951/951 - 1s - loss: 0.0024\n",
            "Epoch 61/100\n",
            "951/951 - 1s - loss: 0.0024\n",
            "Epoch 62/100\n",
            "951/951 - 1s - loss: 0.0024\n",
            "Epoch 63/100\n",
            "951/951 - 1s - loss: 0.0024\n",
            "Epoch 64/100\n",
            "951/951 - 1s - loss: 0.0024\n",
            "Epoch 65/100\n",
            "951/951 - 1s - loss: 0.0024\n",
            "Epoch 66/100\n",
            "951/951 - 1s - loss: 0.0024\n",
            "Epoch 67/100\n",
            "951/951 - 1s - loss: 0.0024\n",
            "Epoch 68/100\n",
            "951/951 - 1s - loss: 0.0024\n",
            "Epoch 69/100\n",
            "951/951 - 1s - loss: 0.0024\n",
            "Epoch 70/100\n",
            "951/951 - 1s - loss: 0.0024\n",
            "Epoch 71/100\n",
            "951/951 - 1s - loss: 0.0024\n",
            "Epoch 72/100\n",
            "951/951 - 1s - loss: 0.0024\n",
            "Epoch 73/100\n",
            "951/951 - 1s - loss: 0.0024\n",
            "Epoch 74/100\n",
            "951/951 - 1s - loss: 0.0024\n",
            "Epoch 75/100\n",
            "951/951 - 1s - loss: 0.0024\n",
            "Epoch 76/100\n",
            "951/951 - 1s - loss: 0.0024\n",
            "Epoch 77/100\n",
            "951/951 - 1s - loss: 0.0024\n",
            "Epoch 78/100\n",
            "951/951 - 1s - loss: 0.0024\n",
            "Epoch 79/100\n",
            "951/951 - 1s - loss: 0.0024\n",
            "Epoch 80/100\n",
            "951/951 - 1s - loss: 0.0024\n",
            "Epoch 81/100\n",
            "951/951 - 1s - loss: 0.0024\n",
            "Epoch 82/100\n",
            "951/951 - 1s - loss: 0.0024\n",
            "Epoch 83/100\n",
            "951/951 - 1s - loss: 0.0024\n",
            "Epoch 84/100\n",
            "951/951 - 1s - loss: 0.0024\n",
            "Epoch 85/100\n",
            "951/951 - 1s - loss: 0.0024\n",
            "Epoch 86/100\n",
            "951/951 - 1s - loss: 0.0024\n",
            "Epoch 87/100\n",
            "951/951 - 1s - loss: 0.0024\n",
            "Epoch 88/100\n",
            "951/951 - 1s - loss: 0.0024\n",
            "Epoch 89/100\n",
            "951/951 - 1s - loss: 0.0024\n",
            "Epoch 90/100\n",
            "951/951 - 1s - loss: 0.0024\n",
            "Epoch 91/100\n",
            "951/951 - 1s - loss: 0.0024\n",
            "Epoch 92/100\n",
            "951/951 - 1s - loss: 0.0024\n",
            "Epoch 93/100\n",
            "951/951 - 1s - loss: 0.0024\n",
            "Epoch 94/100\n",
            "951/951 - 1s - loss: 0.0024\n",
            "Epoch 95/100\n",
            "951/951 - 1s - loss: 0.0024\n",
            "Epoch 96/100\n",
            "951/951 - 1s - loss: 0.0024\n",
            "Epoch 97/100\n",
            "951/951 - 1s - loss: 0.0024\n",
            "Epoch 98/100\n",
            "951/951 - 1s - loss: 0.0024\n",
            "Epoch 99/100\n",
            "951/951 - 1s - loss: 0.0024\n",
            "Epoch 100/100\n",
            "951/951 - 1s - loss: 0.0024\n"
          ],
          "name": "stdout"
        },
        {
          "output_type": "execute_result",
          "data": {
            "text/plain": [
              "<keras.callbacks.History at 0x7f00538efb50>"
            ]
          },
          "metadata": {
            "tags": []
          },
          "execution_count": 19
        }
      ]
    },
    {
      "cell_type": "markdown",
      "metadata": {
        "id": "BhMvH96ra_kG"
      },
      "source": [
        "Our model is ready, we can estimate the performance of the model on the train and test datasets."
      ]
    },
    {
      "cell_type": "code",
      "metadata": {
        "colab": {
          "base_uri": "https://localhost:8080/"
        },
        "id": "RxU5tRl-c0tH",
        "outputId": "d8f795d9-983b-4f69-82ab-e542292c7ed7"
      },
      "source": [
        "trainPredict = model.predict(trainX)\n",
        "testPredict = model.predict(testX)\n",
        "# invert predictions\n",
        "trainPredict = scaler.inverse_transform(trainPredict)\n",
        "trainY = scaler.inverse_transform([trainY])\n",
        "testPredict = scaler.inverse_transform(testPredict)\n",
        "testY = scaler.inverse_transform([testY])\n",
        "# calculate root mean squared error\n",
        "trainScore = math.sqrt(mean_squared_error(trainY[0], trainPredict[:,0]))\n",
        "print('Train Score: %.2f RMSE' % (trainScore))\n",
        "testScore = math.sqrt(mean_squared_error(testY[0], testPredict[:,0]))\n",
        "print('Test Score: %.2f RMSE' % (testScore))"
      ],
      "execution_count": null,
      "outputs": [
        {
          "output_type": "stream",
          "text": [
            "Train Score: 0.05 RMSE\n",
            "Test Score: 0.07 RMSE\n"
          ],
          "name": "stdout"
        }
      ]
    },
    {
      "cell_type": "markdown",
      "metadata": {
        "id": "4Il9Jv0cbRfq"
      },
      "source": [
        "Because of how the dataset was prepared, we must shift the predictions so that they align on the x-axis with the original dataset. Once prepared, the data is plotted, showing the training dataset in blue, the predictions for the test dataset in green."
      ]
    },
    {
      "cell_type": "code",
      "metadata": {
        "colab": {
          "base_uri": "https://localhost:8080/",
          "height": 700
        },
        "id": "Mjv4TGS5c8VO",
        "outputId": "cd9545b4-9b3e-4830-d351-c9f9703c5e8d"
      },
      "source": [
        "trainPredictPlot = numpy.empty_like(dataset)\n",
        "trainPredictPlot[:, :] = numpy.nan\n",
        "trainPredictPlot[look_back:len(trainPredict)+look_back, :] = trainPredict\n",
        "# shift test predictions for plotting\n",
        "testPredictPlot = numpy.empty_like(dataset)\n",
        "testPredictPlot[:, :] = numpy.nan\n",
        "testPredictPlot[len(trainPredict)+(look_back*2)+1:len(dataset)-1, :] = testPredict\n",
        "# plot baseline and predictions\n",
        "plt.figure(figsize=(15,12))\n",
        "plt.plot(df['time'],scaler.inverse_transform(dataset))\n",
        "plt.plot(df['time'],trainPredictPlot)\n",
        "plt.plot(df['time'],testPredictPlot)\n",
        "plt.show()"
      ],
      "execution_count": null,
      "outputs": [
        {
          "output_type": "display_data",
          "data": {
            "image/png": "[encoded data removed]",
            "text/plain": [
              "<Figure size 1080x864 with 1 Axes>"
            ]
          },
          "metadata": {
            "tags": [],
            "needs_background": "light"
          }
        }
      ]
    },
    {
      "cell_type": "markdown",
      "metadata": {
        "id": "nYLQoPO-bmlV"
      },
      "source": [
        "Below cell display last 2 rows of our test dataset."
      ]
    },
    {
      "cell_type": "code",
      "metadata": {
        "colab": {
          "base_uri": "https://localhost:8080/"
        },
        "id": "tY-Nr7frZQ1A",
        "outputId": "42776d3f-e350-4065-fae7-94ac594d1a5f"
      },
      "source": [
        "print(testX[461:])"
      ],
      "execution_count": null,
      "outputs": [
        {
          "output_type": "stream",
          "text": [
            "[[[0.24686136 0.09103678 0.03262173 0.01264222 0.01727651 0.01325906\n",
            "   0.01874695 0.02468472 0.0139846  0.17759933 0.40258171 0.01929976]]\n",
            "\n",
            " [[0.09103678 0.03262173 0.01264222 0.01727651 0.01325906 0.01874695\n",
            "   0.02468472 0.0139846  0.17759933 0.40258171 0.01929976 0.02072664]]]\n"
          ],
          "name": "stdout"
        }
      ]
    },
    {
      "cell_type": "markdown",
      "metadata": {
        "id": "VpP1n7-pcKYj"
      },
      "source": [
        "Notice below cell takes input only last row of our test dataset and store cpu usage prediction for coming 30 days in lst_output."
      ]
    },
    {
      "cell_type": "code",
      "metadata": {
        "colab": {
          "base_uri": "https://localhost:8080/"
        },
        "id": "iUgYDDhhZCma",
        "outputId": "b4f5834b-4a2a-4479-d860-0db9550adfb3"
      },
      "source": [
        "# demonstrate prediction for next 30 days\n",
        "from array import array\n",
        "x_input = [0.09103678, 0.03262173, 0.01264222, 0.01727651, 0.01325906, 0.01874695, 0.02468472, 0.0139846,  0.17759933, 0.40258171, 0.01929976, 0.02072664]\n",
        "x_input = np.array(x_input)\n",
        "temp_input=list(x_input)\n",
        "lst_output=[]\n",
        "i=0\n",
        "while(i<31):\n",
        "    \n",
        "    if(len(temp_input)>12):\n",
        "        x_input=temp_input[1:]\n",
        "        print(\"{} day input {}\".format(i,x_input))\n",
        "        x_input = np.array(x_input)\n",
        "        x_input = x_input.reshape((1, 1, look_back))\n",
        "        yhat = model.predict(x_input, verbose=0)\n",
        "        print(\"{} day output {}\".format(i,yhat))\n",
        "        temp_input.append(yhat[0][0])\n",
        "        temp_input=temp_input[1:]\n",
        "        lst_output.append(yhat[0][0])\n",
        "        i=i+1\n",
        "    else:\n",
        "        x_input = x_input.reshape((1, 1, look_back))\n",
        "        yhat = model.predict(x_input, verbose=0)\n",
        "        print(yhat[0])\n",
        "        temp_input.append(yhat[0][0])\n",
        "        lst_output.append(yhat[0][0])\n",
        "        i=i+1\n",
        "    \n",
        "\n",
        "print(lst_output)"
      ],
      "execution_count": null,
      "outputs": [
        {
          "output_type": "stream",
          "text": [
            "[0.05126844]\n",
            "1 day input [0.03262173, 0.01264222, 0.01727651, 0.01325906, 0.01874695, 0.02468472, 0.0139846, 0.17759933, 0.40258171, 0.01929976, 0.02072664, 0.051268436]\n",
            "1 day output [[0.04628098]]\n",
            "2 day input [0.01264222, 0.01727651, 0.01325906, 0.01874695, 0.02468472, 0.0139846, 0.17759933, 0.40258171, 0.01929976, 0.02072664, 0.051268436, 0.046280976]\n",
            "2 day output [[0.02804195]]\n",
            "3 day input [0.01727651, 0.01325906, 0.01874695, 0.02468472, 0.0139846, 0.17759933, 0.40258171, 0.01929976, 0.02072664, 0.051268436, 0.046280976, 0.028041946]\n",
            "3 day output [[0.02452232]]\n",
            "4 day input [0.01325906, 0.01874695, 0.02468472, 0.0139846, 0.17759933, 0.40258171, 0.01929976, 0.02072664, 0.051268436, 0.046280976, 0.028041946, 0.02452232]\n",
            "4 day output [[0.03367103]]\n",
            "5 day input [0.01874695, 0.02468472, 0.0139846, 0.17759933, 0.40258171, 0.01929976, 0.02072664, 0.051268436, 0.046280976, 0.028041946, 0.02452232, 0.03367103]\n",
            "5 day output [[0.04493647]]\n",
            "6 day input [0.02468472, 0.0139846, 0.17759933, 0.40258171, 0.01929976, 0.02072664, 0.051268436, 0.046280976, 0.028041946, 0.02452232, 0.03367103, 0.04493647]\n",
            "6 day output [[0.03863369]]\n",
            "7 day input [0.0139846, 0.17759933, 0.40258171, 0.01929976, 0.02072664, 0.051268436, 0.046280976, 0.028041946, 0.02452232, 0.03367103, 0.04493647, 0.03863369]\n",
            "7 day output [[0.02307822]]\n",
            "8 day input [0.17759933, 0.40258171, 0.01929976, 0.02072664, 0.051268436, 0.046280976, 0.028041946, 0.02452232, 0.03367103, 0.04493647, 0.03863369, 0.023078218]\n",
            "8 day output [[0.02093486]]\n",
            "9 day input [0.40258171, 0.01929976, 0.02072664, 0.051268436, 0.046280976, 0.028041946, 0.02452232, 0.03367103, 0.04493647, 0.03863369, 0.023078218, 0.02093486]\n",
            "9 day output [[0.01652058]]\n",
            "10 day input [0.01929976, 0.02072664, 0.051268436, 0.046280976, 0.028041946, 0.02452232, 0.03367103, 0.04493647, 0.03863369, 0.023078218, 0.02093486, 0.016520578]\n",
            "10 day output [[0.0203285]]\n",
            "11 day input [0.02072664, 0.051268436, 0.046280976, 0.028041946, 0.02452232, 0.03367103, 0.04493647, 0.03863369, 0.023078218, 0.02093486, 0.016520578, 0.020328498]\n",
            "11 day output [[0.01950191]]\n",
            "12 day input [0.051268436, 0.046280976, 0.028041946, 0.02452232, 0.03367103, 0.04493647, 0.03863369, 0.023078218, 0.02093486, 0.016520578, 0.020328498, 0.019501906]\n",
            "12 day output [[0.01814938]]\n",
            "13 day input [0.046280976, 0.028041946, 0.02452232, 0.03367103, 0.04493647, 0.03863369, 0.023078218, 0.02093486, 0.016520578, 0.020328498, 0.019501906, 0.018149378]\n",
            "13 day output [[0.01765161]]\n",
            "14 day input [0.028041946, 0.02452232, 0.03367103, 0.04493647, 0.03863369, 0.023078218, 0.02093486, 0.016520578, 0.020328498, 0.019501906, 0.018149378, 0.017651606]\n",
            "14 day output [[0.01895672]]\n",
            "15 day input [0.02452232, 0.03367103, 0.04493647, 0.03863369, 0.023078218, 0.02093486, 0.016520578, 0.020328498, 0.019501906, 0.018149378, 0.017651606, 0.018956723]\n",
            "15 day output [[0.01883736]]\n",
            "16 day input [0.03367103, 0.04493647, 0.03863369, 0.023078218, 0.02093486, 0.016520578, 0.020328498, 0.019501906, 0.018149378, 0.017651606, 0.018956723, 0.018837359]\n",
            "16 day output [[0.01747601]]\n",
            "17 day input [0.04493647, 0.03863369, 0.023078218, 0.02093486, 0.016520578, 0.020328498, 0.019501906, 0.018149378, 0.017651606, 0.018956723, 0.018837359, 0.017476011]\n",
            "17 day output [[0.01624786]]\n",
            "18 day input [0.03863369, 0.023078218, 0.02093486, 0.016520578, 0.020328498, 0.019501906, 0.018149378, 0.017651606, 0.018956723, 0.018837359, 0.017476011, 0.016247857]\n",
            "18 day output [[0.01649457]]\n",
            "19 day input [0.023078218, 0.02093486, 0.016520578, 0.020328498, 0.019501906, 0.018149378, 0.017651606, 0.018956723, 0.018837359, 0.017476011, 0.016247857, 0.016494567]\n",
            "19 day output [[0.01795369]]\n",
            "20 day input [0.02093486, 0.016520578, 0.020328498, 0.019501906, 0.018149378, 0.017651606, 0.018956723, 0.018837359, 0.017476011, 0.016247857, 0.016494567, 0.01795369]\n",
            "20 day output [[0.01890098]]\n",
            "21 day input [0.016520578, 0.020328498, 0.019501906, 0.018149378, 0.017651606, 0.018956723, 0.018837359, 0.017476011, 0.016247857, 0.016494567, 0.01795369, 0.018900985]\n",
            "21 day output [[0.01961411]]\n",
            "22 day input [0.020328498, 0.019501906, 0.018149378, 0.017651606, 0.018956723, 0.018837359, 0.017476011, 0.016247857, 0.016494567, 0.01795369, 0.018900985, 0.019614113]\n",
            "22 day output [[0.02014439]]\n",
            "23 day input [0.019501906, 0.018149378, 0.017651606, 0.018956723, 0.018837359, 0.017476011, 0.016247857, 0.016494567, 0.01795369, 0.018900985, 0.019614113, 0.020144386]\n",
            "23 day output [[0.02098886]]\n",
            "24 day input [0.018149378, 0.017651606, 0.018956723, 0.018837359, 0.017476011, 0.016247857, 0.016494567, 0.01795369, 0.018900985, 0.019614113, 0.020144386, 0.02098886]\n",
            "24 day output [[0.02179221]]\n",
            "25 day input [0.017651606, 0.018956723, 0.018837359, 0.017476011, 0.016247857, 0.016494567, 0.01795369, 0.018900985, 0.019614113, 0.020144386, 0.02098886, 0.021792205]\n",
            "25 day output [[0.02241825]]\n",
            "26 day input [0.018956723, 0.018837359, 0.017476011, 0.016247857, 0.016494567, 0.01795369, 0.018900985, 0.019614113, 0.020144386, 0.02098886, 0.021792205, 0.022418248]\n",
            "26 day output [[0.02290581]]\n",
            "27 day input [0.018837359, 0.017476011, 0.016247857, 0.016494567, 0.01795369, 0.018900985, 0.019614113, 0.020144386, 0.02098886, 0.021792205, 0.022418248, 0.022905814]\n",
            "27 day output [[0.02352882]]\n",
            "28 day input [0.017476011, 0.016247857, 0.016494567, 0.01795369, 0.018900985, 0.019614113, 0.020144386, 0.02098886, 0.021792205, 0.022418248, 0.022905814, 0.023528818]\n",
            "28 day output [[0.02424987]]\n",
            "29 day input [0.016247857, 0.016494567, 0.01795369, 0.018900985, 0.019614113, 0.020144386, 0.02098886, 0.021792205, 0.022418248, 0.022905814, 0.023528818, 0.024249867]\n",
            "29 day output [[0.0249027]]\n",
            "30 day input [0.016494567, 0.01795369, 0.018900985, 0.019614113, 0.020144386, 0.02098886, 0.021792205, 0.022418248, 0.022905814, 0.023528818, 0.024249867, 0.024902703]\n",
            "30 day output [[0.02537908]]\n",
            "[0.051268436, 0.046280976, 0.028041946, 0.02452232, 0.03367103, 0.04493647, 0.03863369, 0.023078218, 0.02093486, 0.016520578, 0.020328498, 0.019501906, 0.018149378, 0.017651606, 0.018956723, 0.018837359, 0.017476011, 0.016247857, 0.016494567, 0.01795369, 0.018900985, 0.019614113, 0.020144386, 0.02098886, 0.021792205, 0.022418248, 0.022905814, 0.023528818, 0.024249867, 0.024902703, 0.025379082]\n"
          ],
          "name": "stdout"
        }
      ]
    },
    {
      "cell_type": "markdown",
      "metadata": {
        "id": "LE72LglCcPaN"
      },
      "source": [
        "Forecasting cpu usage for coming 30 days."
      ]
    },
    {
      "cell_type": "code",
      "metadata": {
        "colab": {
          "base_uri": "https://localhost:8080/",
          "height": 483
        },
        "id": "jZ92kfAhiWu4",
        "outputId": "199481b4-b77d-4712-ab74-22fb393c888d"
      },
      "source": [
        "plt.figure(figsize=(10,8))\n",
        "plt.plot(lst_output)\n",
        "plt.show()"
      ],
      "execution_count": null,
      "outputs": [
        {
          "output_type": "display_data",
          "data": {
            "image/png": "[encoded data removed]",
            "text/plain": [
              "<Figure size 720x576 with 1 Axes>"
            ]
          },
          "metadata": {
            "tags": [],
            "needs_background": "light"
          }
        }
      ]
    }
  ]
}